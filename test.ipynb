{
 "cells": [
  {
   "cell_type": "code",
   "execution_count": 3,
   "metadata": {},
   "outputs": [
    {
     "ename": "FileNotFoundError",
     "evalue": "[Errno 2] No such file or directory: '/home/george-vengrovski/Documents/projects/tweety_bert_paper/files/umap_dict_file.npz'",
     "output_type": "error",
     "traceback": [
      "\u001b[0;31m---------------------------------------------------------------------------\u001b[0m",
      "\u001b[0;31mFileNotFoundError\u001b[0m                         Traceback (most recent call last)",
      "Cell \u001b[0;32mIn[3], line 5\u001b[0m\n\u001b[1;32m      1\u001b[0m \u001b[39mimport\u001b[39;00m \u001b[39mnumpy\u001b[39;00m \u001b[39mas\u001b[39;00m \u001b[39mnp\u001b[39;00m\n\u001b[1;32m      3\u001b[0m f \u001b[39m=\u001b[39m \u001b[39m\"\u001b[39m\u001b[39m/home/george-vengrovski/Documents/projects/tweety_bert_paper/files/umap_dict_file.npz\u001b[39m\u001b[39m\"\u001b[39m\n\u001b[0;32m----> 5\u001b[0m f \u001b[39m=\u001b[39m np\u001b[39m.\u001b[39mload(f, allow_pickle\u001b[39m=\u001b[39m\u001b[39mTrue\u001b[39;00m)\n\u001b[1;32m      7\u001b[0m spec \u001b[39m=\u001b[39m f[\u001b[39m\"\u001b[39m\u001b[39mbehavioralArr\u001b[39m\u001b[39m\"\u001b[39m]\n\u001b[1;32m      8\u001b[0m labels \u001b[39m=\u001b[39m f[\u001b[39m\"\u001b[39m\u001b[39mcolors_per_timepoint\u001b[39m\u001b[39m\"\u001b[39m]\n",
      "File \u001b[0;32m~/anaconda3/envs/tweetybert/lib/python3.11/site-packages/numpy/lib/npyio.py:405\u001b[0m, in \u001b[0;36mload\u001b[0;34m(file, mmap_mode, allow_pickle, fix_imports, encoding, max_header_size)\u001b[0m\n\u001b[1;32m    403\u001b[0m     own_fid \u001b[39m=\u001b[39m \u001b[39mFalse\u001b[39;00m\n\u001b[1;32m    404\u001b[0m \u001b[39melse\u001b[39;00m:\n\u001b[0;32m--> 405\u001b[0m     fid \u001b[39m=\u001b[39m stack\u001b[39m.\u001b[39menter_context(\u001b[39mopen\u001b[39m(os_fspath(file), \u001b[39m\"\u001b[39m\u001b[39mrb\u001b[39m\u001b[39m\"\u001b[39m))\n\u001b[1;32m    406\u001b[0m     own_fid \u001b[39m=\u001b[39m \u001b[39mTrue\u001b[39;00m\n\u001b[1;32m    408\u001b[0m \u001b[39m# Code to distinguish from NumPy binary files and pickles.\u001b[39;00m\n",
      "\u001b[0;31mFileNotFoundError\u001b[0m: [Errno 2] No such file or directory: '/home/george-vengrovski/Documents/projects/tweety_bert_paper/files/umap_dict_file.npz'"
     ]
    }
   ],
   "source": [
    "import numpy as np\n",
    "\n",
    "f = \"/home/george-vengrovski/Documents/projects/tweety_bert_paper/files/umap_dict_file.npz\"\n",
    "\n",
    "f = np.load(f, allow_pickle=True)\n",
    "\n",
    "spec = f[\"behavioralArr\"]\n",
    "labels = f[\"colors_per_timepoint\"]\n",
    "\n"
   ]
  },
  {
   "cell_type": "code",
   "execution_count": 59,
   "metadata": {},
   "outputs": [
    {
     "ename": "KeyError",
     "evalue": "'predictions is not a file in the archive'",
     "output_type": "error",
     "traceback": [
      "\u001b[0;31m---------------------------------------------------------------------------\u001b[0m",
      "\u001b[0;31mKeyError\u001b[0m                                  Traceback (most recent call last)",
      "Cell \u001b[0;32mIn[59], line 41\u001b[0m\n\u001b[1;32m     39\u001b[0m \u001b[39m# Load the NPZ file and call the function to plot\u001b[39;00m\n\u001b[1;32m     40\u001b[0m file_path \u001b[39m=\u001b[39m \u001b[39m\"\u001b[39m\u001b[39m/home/george-vengrovski/Documents/projects/tweety_bert_paper/files/labels_noclip_double_size_V_2_5e5.npz\u001b[39m\u001b[39m\"\u001b[39m\n\u001b[0;32m---> 41\u001b[0m plot_spectrogram_with_labels(file_path)\n",
      "Cell \u001b[0;32mIn[59], line 8\u001b[0m, in \u001b[0;36mplot_spectrogram_with_labels\u001b[0;34m(file_path)\u001b[0m\n\u001b[1;32m      5\u001b[0m \u001b[39mdef\u001b[39;00m \u001b[39mplot_spectrogram_with_labels\u001b[39m(file_path):\n\u001b[1;32m      6\u001b[0m     \u001b[39m# Load data from the .npz file\u001b[39;00m\n\u001b[1;32m      7\u001b[0m     data \u001b[39m=\u001b[39m np\u001b[39m.\u001b[39mload(file_path, allow_pickle\u001b[39m=\u001b[39m\u001b[39mTrue\u001b[39;00m)\n\u001b[0;32m----> 8\u001b[0m     spec \u001b[39m=\u001b[39m data[\u001b[39m\"\u001b[39m\u001b[39mpredictions\u001b[39m\u001b[39m\"\u001b[39m]  \u001b[39m# Spectrogram data\u001b[39;00m\n\u001b[1;32m      9\u001b[0m     labels \u001b[39m=\u001b[39m data[\u001b[39m\"\u001b[39m\u001b[39mlabels\u001b[39m\u001b[39m\"\u001b[39m]  \u001b[39m# RGB color labels per timepoint\u001b[39;00m\n\u001b[1;32m     11\u001b[0m     \u001b[39m# Only consider the first 5000 timepoints for plotting\u001b[39;00m\n",
      "File \u001b[0;32m~/anaconda3/envs/tweetybert/lib/python3.11/site-packages/numpy/lib/npyio.py:260\u001b[0m, in \u001b[0;36mNpzFile.__getitem__\u001b[0;34m(self, key)\u001b[0m\n\u001b[1;32m    258\u001b[0m         \u001b[39mreturn\u001b[39;00m \u001b[39mself\u001b[39m\u001b[39m.\u001b[39mzip\u001b[39m.\u001b[39mread(key)\n\u001b[1;32m    259\u001b[0m \u001b[39melse\u001b[39;00m:\n\u001b[0;32m--> 260\u001b[0m     \u001b[39mraise\u001b[39;00m \u001b[39mKeyError\u001b[39;00m(\u001b[39m\"\u001b[39m\u001b[39m%s\u001b[39;00m\u001b[39m is not a file in the archive\u001b[39m\u001b[39m\"\u001b[39m \u001b[39m%\u001b[39m key)\n",
      "\u001b[0;31mKeyError\u001b[0m: 'predictions is not a file in the archive'"
     ]
    }
   ],
   "source": [
    "import numpy as np\n",
    "import matplotlib.pyplot as plt\n",
    "import matplotlib.colors as mcolors\n",
    "\n",
    "def plot_spectrogram_with_labels(file_path):\n",
    "    # Load data from the .npz file\n",
    "    data = np.load(file_path, allow_pickle=True)\n",
    "    spec = data[\"predictions\"]  # Spectrogram data\n",
    "    labels = data[\"labels\"]  # RGB color labels per timepoint\n",
    "    \n",
    "    # Only consider the first 5000 timepoints for plotting\n",
    "    spec_slice = spec[:, :5000]  # Take all frequency bins, but only the first 5000 timepoints\n",
    "    labels_slice = labels[:5000, :]  # Take the first 5000 RGB labels\n",
    "    \n",
    "    # Set up the figure and gridspec\n",
    "    fig = plt.figure(figsize=(14, 6))\n",
    "    gs = fig.add_gridspec(2, 1, height_ratios=[20, 1], hspace=0.05)\n",
    "    \n",
    "    # Create a spectrogram axis\n",
    "    ax0 = fig.add_subplot(gs[0])\n",
    "    im = ax0.imshow(spec_slice, aspect='auto', origin='lower')\n",
    "    ax0.set_xlabel('Time [sec]')\n",
    "    ax0.set_ylabel('Frequency [Hz]')\n",
    "    ax0.set_title('Spectrogram and Labels')\n",
    "\n",
    "    # # Add the main color bar for the spectrogram\n",
    "    # cbar = fig.colorbar(im, ax=ax0, orientation='horizontal', pad=0.01)\n",
    "    # cbar.set_label('Amplitude')\n",
    "\n",
    "    # Create an axis for the labels color bar\n",
    "    ax1 = fig.add_subplot(gs[1])\n",
    "    ax1.imshow(labels_slice[np.newaxis, :, :], aspect='auto', origin='lower', cmap=mcolors.ListedColormap(labels_slice))\n",
    "    \n",
    "    # Remove y-ticks, y-label and x-ticks from the labels color bar\n",
    "    ax1.axis('off')\n",
    "\n",
    "    plt.show()\n",
    "\n",
    "# Load the NPZ file and call the function to plot\n",
    "file_path = \"/home/george-vengrovski/Documents/projects/tweety_bert_paper/files/labels_noclip_double_size_V_2_5e5.npz\"\n",
    "plot_spectrogram_with_labels(file_path)\n"
   ]
  },
  {
   "cell_type": "code",
   "execution_count": 61,
   "metadata": {},
   "outputs": [
    {
     "name": "stdout",
     "output_type": "stream",
     "text": [
      "(257, 49999)\n"
     ]
    }
   ],
   "source": [
    "\n",
    "import numpy as np\n",
    "\n",
    "f = \"/media/george-vengrovski/disk2/budgie/raw_data/ssd_combined_specs/Box2Ephys_2023-06-18_3_0047.merged_part4.npz\"\n",
    "\n",
    "f = np.load(f, allow_pickle=True)\n",
    "print(f[\"s\"].shape)\n"
   ]
  },
  {
   "cell_type": "code",
   "execution_count": 1,
   "metadata": {},
   "outputs": [
    {
     "name": "stdout",
     "output_type": "stream",
     "text": [
      "cuda\n"
     ]
    }
   ],
   "source": [
    "import torch\n",
    "import numpy as np\n",
    "import matplotlib.pyplot as plt\n",
    "import os\n",
    "\n",
    "import sys\n",
    "sys.path.append(\"src\")\n",
    "\n",
    "device = torch.device(\"cuda\" if torch.cuda.is_available() else \"cpu\")\n",
    "print(device)\n",
    "\n",
    "import os\n",
    "import torch\n",
    "from data_class import SongDataSet_Image, CollateFunction\n",
    "from model import TweetyBERT\n",
    "from trainer import ModelTrainer\n",
    "from utils import detailed_count_parameters\n",
    "import json\n",
    "import shutil\n",
    "from itertools import cycle\n",
    "from torch.utils.data import DataLoader\n",
    "\n",
    "# collate_fn = CollateFunction(segment_length=1000)\n",
    "train_dataset = SongDataSet_Image(\"files/yarden_llb3_test\", num_classes=30)\n",
    "train_loader = DataLoader(train_dataset, batch_size=1, shuffle=False,  num_workers=16)\n",
    "train_loader= iter(train_loader)"
   ]
  },
  {
   "cell_type": "code",
   "execution_count": 56,
   "metadata": {},
   "outputs": [
    {
     "name": "stdout",
     "output_type": "stream",
     "text": [
      "torch.Size([1, 3145, 513])\n"
     ]
    }
   ],
   "source": [
    "s,_ = next(train_loader)\n",
    "print(s.shape)"
   ]
  }
 ],
 "metadata": {
  "kernelspec": {
   "display_name": "tweetybert",
   "language": "python",
   "name": "python3"
  },
  "language_info": {
   "codemirror_mode": {
    "name": "ipython",
    "version": 3
   },
   "file_extension": ".py",
   "mimetype": "text/x-python",
   "name": "python",
   "nbconvert_exporter": "python",
   "pygments_lexer": "ipython3",
   "version": "3.11.7"
  },
  "orig_nbformat": 4
 },
 "nbformat": 4,
 "nbformat_minor": 2
}
