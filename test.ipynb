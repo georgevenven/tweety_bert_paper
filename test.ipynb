{
 "cells": [
  {
   "cell_type": "code",
   "execution_count": 3,
   "metadata": {},
   "outputs": [
    {
     "ename": "FileNotFoundError",
     "evalue": "[Errno 2] No such file or directory: '/home/george-vengrovski/Documents/projects/tweety_bert_paper/files/umap_dict_file.npz'",
     "output_type": "error",
     "traceback": [
      "\u001b[0;31m---------------------------------------------------------------------------\u001b[0m",
      "\u001b[0;31mFileNotFoundError\u001b[0m                         Traceback (most recent call last)",
      "Cell \u001b[0;32mIn[3], line 5\u001b[0m\n\u001b[1;32m      1\u001b[0m \u001b[39mimport\u001b[39;00m \u001b[39mnumpy\u001b[39;00m \u001b[39mas\u001b[39;00m \u001b[39mnp\u001b[39;00m\n\u001b[1;32m      3\u001b[0m f \u001b[39m=\u001b[39m \u001b[39m\"\u001b[39m\u001b[39m/home/george-vengrovski/Documents/projects/tweety_bert_paper/files/umap_dict_file.npz\u001b[39m\u001b[39m\"\u001b[39m\n\u001b[0;32m----> 5\u001b[0m f \u001b[39m=\u001b[39m np\u001b[39m.\u001b[39mload(f, allow_pickle\u001b[39m=\u001b[39m\u001b[39mTrue\u001b[39;00m)\n\u001b[1;32m      7\u001b[0m spec \u001b[39m=\u001b[39m f[\u001b[39m\"\u001b[39m\u001b[39mbehavioralArr\u001b[39m\u001b[39m\"\u001b[39m]\n\u001b[1;32m      8\u001b[0m labels \u001b[39m=\u001b[39m f[\u001b[39m\"\u001b[39m\u001b[39mcolors_per_timepoint\u001b[39m\u001b[39m\"\u001b[39m]\n",
      "File \u001b[0;32m~/anaconda3/envs/tweetybert/lib/python3.11/site-packages/numpy/lib/npyio.py:405\u001b[0m, in \u001b[0;36mload\u001b[0;34m(file, mmap_mode, allow_pickle, fix_imports, encoding, max_header_size)\u001b[0m\n\u001b[1;32m    403\u001b[0m     own_fid \u001b[39m=\u001b[39m \u001b[39mFalse\u001b[39;00m\n\u001b[1;32m    404\u001b[0m \u001b[39melse\u001b[39;00m:\n\u001b[0;32m--> 405\u001b[0m     fid \u001b[39m=\u001b[39m stack\u001b[39m.\u001b[39menter_context(\u001b[39mopen\u001b[39m(os_fspath(file), \u001b[39m\"\u001b[39m\u001b[39mrb\u001b[39m\u001b[39m\"\u001b[39m))\n\u001b[1;32m    406\u001b[0m     own_fid \u001b[39m=\u001b[39m \u001b[39mTrue\u001b[39;00m\n\u001b[1;32m    408\u001b[0m \u001b[39m# Code to distinguish from NumPy binary files and pickles.\u001b[39;00m\n",
      "\u001b[0;31mFileNotFoundError\u001b[0m: [Errno 2] No such file or directory: '/home/george-vengrovski/Documents/projects/tweety_bert_paper/files/umap_dict_file.npz'"
     ]
    }
   ],
   "source": [
    "import numpy as np\n",
    "\n",
    "f = \"/home/george-vengrovski/Documents/projects/tweety_bert_paper/files/umap_dict_file.npz\"\n",
    "\n",
    "f = np.load(f, allow_pickle=True)\n",
    "\n",
    "spec = f[\"behavioralArr\"]\n",
    "labels = f[\"colors_per_timepoint\"]\n",
    "\n"
   ]
  },
  {
   "cell_type": "code",
   "execution_count": 13,
   "metadata": {},
   "outputs": [
    {
     "data": {
      "image/png": "[encoded data removed]",
      "text/plain": [
       "<Figure size 1400x600 with 2 Axes>"
      ]
     },
     "metadata": {},
     "output_type": "display_data"
    }
   ],
   "source": [
    "import numpy as np\n",
    "import matplotlib.pyplot as plt\n",
    "import matplotlib.colors as mcolors\n",
    "\n",
    "def plot_spectrogram_with_labels(file_path):\n",
    "    # Load data from the .npz file\n",
    "    data = np.load(file_path, allow_pickle=True)\n",
    "    spec = data[\"behavioralArr\"]  # Spectrogram data\n",
    "    labels = data[\"colors_per_timepoint\"]  # RGB color labels per timepoint\n",
    "    \n",
    "    # Only consider the first 5000 timepoints for plotting\n",
    "    spec_slice = spec[:, :5000]  # Take all frequency bins, but only the first 5000 timepoints\n",
    "    labels_slice = labels[:5000, :]  # Take the first 5000 RGB labels\n",
    "    \n",
    "    # Set up the figure and gridspec\n",
    "    fig = plt.figure(figsize=(14, 6))\n",
    "    gs = fig.add_gridspec(2, 1, height_ratios=[20, 1], hspace=0.05)\n",
    "    \n",
    "    # Create a spectrogram axis\n",
    "    ax0 = fig.add_subplot(gs[0])\n",
    "    im = ax0.imshow(spec_slice, aspect='auto', origin='lower')\n",
    "    ax0.set_xlabel('Time [sec]')\n",
    "    ax0.set_ylabel('Frequency [Hz]')\n",
    "    ax0.set_title('Spectrogram and Labels')\n",
    "\n",
    "    # # Add the main color bar for the spectrogram\n",
    "    # cbar = fig.colorbar(im, ax=ax0, orientation='horizontal', pad=0.01)\n",
    "    # cbar.set_label('Amplitude')\n",
    "\n",
    "    # Create an axis for the labels color bar\n",
    "    ax1 = fig.add_subplot(gs[1])\n",
    "    ax1.imshow(labels_slice[np.newaxis, :, :], aspect='auto', origin='lower', cmap=mcolors.ListedColormap(labels_slice))\n",
    "    \n",
    "    # Remove y-ticks, y-label and x-ticks from the labels color bar\n",
    "    ax1.axis('off')\n",
    "\n",
    "    plt.show()\n",
    "\n",
    "# Load the NPZ file and call the function to plot\n",
    "file_path = \"/home/george-vengrovski/Documents/projects/tweety_bert_paper/files/labels_noclip_double_size_V_2_5e5.npz\"\n",
    "plot_spectrogram_with_labels(file_path)\n"
   ]
  },
  {
   "cell_type": "code",
   "execution_count": 5,
   "metadata": {},
   "outputs": [
    {
     "name": "stdout",
     "output_type": "stream",
     "text": [
      "[[10.162288   6.1396327]\n",
      " [10.09827    5.4736133]\n",
      " [10.439884   5.5453095]\n",
      " ...\n",
      " [-2.872839   8.016115 ]\n",
      " [-2.2278097  8.469915 ]\n",
      " [-1.7873737  8.838995 ]]\n"
     ]
    }
   ],
   "source": [
    "\n",
    "import numpy as np\n",
    "\n",
    "f = \"files/labels_cmap_test.npz\"\n",
    "\n",
    "f = np.load(f, allow_pickle=True)\n",
    "print(f[\"embedding_outputs\"])\n"
   ]
  },
  {
   "cell_type": "code",
   "execution_count": 1,
   "metadata": {},
   "outputs": [
    {
     "name": "stdout",
     "output_type": "stream",
     "text": [
      "cuda\n"
     ]
    }
   ],
   "source": [
    "import torch\n",
    "import numpy as np\n",
    "import matplotlib.pyplot as plt\n",
    "import os\n",
    "\n",
    "import sys\n",
    "sys.path.append(\"src\")\n",
    "\n",
    "device = torch.device(\"cuda\" if torch.cuda.is_available() else \"cpu\")\n",
    "print(device)\n",
    "\n",
    "import os\n",
    "import torch\n",
    "from data_class import SongDataSet_Image, CollateFunction\n",
    "from model import TweetyBERT\n",
    "from trainer import ModelTrainer\n",
    "from utils import detailed_count_parameters\n",
    "import json\n",
    "import shutil\n",
    "from itertools import cycle\n",
    "from torch.utils.data import DataLoader\n",
    "\n",
    "# collate_fn = CollateFunction(segment_length=1000)\n",
    "train_dataset = SongDataSet_Image(\"files/yarden_llb3_test\", num_classes=30)\n",
    "train_loader = DataLoader(train_dataset, batch_size=1, shuffle=False,  num_workers=16)\n",
    "train_loader= iter(train_loader)"
   ]
  },
  {
   "cell_type": "code",
   "execution_count": 56,
   "metadata": {},
   "outputs": [
    {
     "name": "stdout",
     "output_type": "stream",
     "text": [
      "torch.Size([1, 3145, 513])\n"
     ]
    }
   ],
   "source": [
    "s,_ = next(train_loader)\n",
    "print(s.shape)"
   ]
  }
 ],
 "metadata": {
  "kernelspec": {
   "display_name": "tweetybert",
   "language": "python",
   "name": "python3"
  },
  "language_info": {
   "codemirror_mode": {
    "name": "ipython",
    "version": 3
   },
   "file_extension": ".py",
   "mimetype": "text/x-python",
   "name": "python",
   "nbconvert_exporter": "python",
   "pygments_lexer": "ipython3",
   "version": "3.11.7"
  },
  "orig_nbformat": 4
 },
 "nbformat": 4,
 "nbformat_minor": 2
}
