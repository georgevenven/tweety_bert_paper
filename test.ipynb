{
 "cells": [
  {
   "cell_type": "code",
   "execution_count": 6,
   "metadata": {},
   "outputs": [],
   "source": [
    "import numpy as np\n",
    "def calculate_relative_position_labels(ground_truth_labels, silence=0):\n",
    "    \"\"\"\n",
    "    Creates a new list, which labels each timebin's relative position within each phrase.\n",
    "\n",
    "    Args:\n",
    "        ground_truth_labels (List[int]): The list of integer values representing timebin syllable labels.\n",
    "        silence (int): The label representing silence, used to separate phrases.\n",
    "\n",
    "    Returns:\n",
    "        relative_position_labels (List[float]): List of float values between 0-1 representing the position of the timebin within each phrase.\n",
    "    \"\"\"\n",
    "\n",
    "    labels_array = np.array(ground_truth_labels)\n",
    "    relative_positions = np.zeros_like(labels_array, dtype=float)\n",
    "\n",
    "    # Function to calculate relative positions within a phrase\n",
    "    def calculate_relative_positions_for_phrase(phrase):\n",
    "        phrase_length = len(phrase)\n",
    "        return [(i + 1) / phrase_length for i in range(phrase_length)]\n",
    "\n",
    "    # Identify start and end indices of phrases\n",
    "    is_silence = (labels_array == silence)\n",
    "    phrase_boundaries = np.diff(is_silence.astype(int))\n",
    "    start_indices = np.where(phrase_boundaries == -1)[0] + 1\n",
    "    end_indices = np.where(phrase_boundaries == 1)[0] + 1\n",
    "\n",
    "    if not is_silence[0]:\n",
    "        start_indices = np.insert(start_indices, 0, 0)\n",
    "    if not is_silence[-1]:\n",
    "        end_indices = np.append(end_indices, len(labels_array))\n",
    "\n",
    "    # Calculate relative positions for each phrase\n",
    "    for start, end in zip(start_indices, end_indices):\n",
    "        phrase = labels_array[start:end]\n",
    "        relative_positions[start:end] = calculate_relative_positions_for_phrase(phrase)\n",
    "\n",
    "    return relative_positions.tolist()\n"
   ]
  },
  {
   "cell_type": "code",
   "execution_count": 7,
   "metadata": {},
   "outputs": [
    {
     "name": "stdout",
     "output_type": "stream",
     "text": [
      "[1.0, 0.0, 1.0, 0.0, 1.0, 0.0, 1.0, 0.0, 1.0]\n"
     ]
    }
   ],
   "source": [
    "# Example usage\n",
    "ground_truth_labels = [1, 0, 1, 0, 2, 0, 2, 0, 2]\n",
    "relative_position_labels = calculate_relative_position_labels(ground_truth_labels)\n",
    "print(relative_position_labels)"
   ]
  }
 ],
 "metadata": {
  "kernelspec": {
   "display_name": "canary-vae",
   "language": "python",
   "name": "python3"
  },
  "language_info": {
   "codemirror_mode": {
    "name": "ipython",
    "version": 3
   },
   "file_extension": ".py",
   "mimetype": "text/x-python",
   "name": "python",
   "nbconvert_exporter": "python",
   "pygments_lexer": "ipython3",
   "version": "3.11.4"
  },
  "orig_nbformat": 4
 },
 "nbformat": 4,
 "nbformat_minor": 2
}
