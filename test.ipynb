{
 "cells": [
  {
   "cell_type": "code",
   "execution_count": 85,
   "metadata": {},
   "outputs": [],
   "source": [
    "import numpy as np\n",
    "\n",
    "def calculate_relative_position_labels(ground_truth_labels, silence=0):\n",
    "    \"\"\"\n",
    "    Creates a new list, which labels each timebin's relative position within each phrase.\n",
    "\n",
    "    Args:\n",
    "        ground_truth_labels (List[int]): The list of integer values representing timebin syllable labels.\n",
    "        silence (int): The label representing silence, used to separate phrases.\n",
    "\n",
    "    Returns:\n",
    "        relative_position_labels (List[float]): List of float values between 0-1 representing the position of the timebin within each phrase.\n",
    "    \"\"\"\n",
    "\n",
    "    labels_array = np.array(ground_truth_labels)\n",
    "    relative_positions = np.zeros_like(labels_array, dtype=float)\n",
    "\n",
    "    # get first syllable that is not a silence\n",
    "    current_syllable = labels_array[np.where(labels_array != 0)]\n",
    "    current_syllable = current_syllable[0]\n",
    "\n",
    "    start_of_phrase_index = 0 \n",
    "    end_of_phrase_index = 0 \n",
    "    phrases = []\n",
    "\n",
    "    for i, value in enumerate(labels_array):\n",
    "        # Check if it's the end of the array or the next element is silence\n",
    "        if i < (len(labels_array)-1):\n",
    "            if labels_array[i+1] != silence and labels_array[i+1] != current_syllable:\n",
    "                # Phrase ends\n",
    "                end_of_phrase_index = i\n",
    "                # Calculate phrase size\n",
    "                phrase_size = end_of_phrase_index - start_of_phrase_index + 1\n",
    "                # Create a numpy array with uniformly increasing floats between 0 and 1\n",
    "                phrase_array = np.linspace(0, 1, phrase_size)\n",
    "                phrases.append(phrase_array)\n",
    "                # Update start_of_phrase_index for the next phrase\n",
    "                start_of_phrase_index = i + 1\n",
    "                current_syllable = labels_array[i+1]\n",
    "                \n",
    "\n",
    "    phrases = np.concatenate(phrases)\n",
    "    relative_positions[:phrases.shape[0]] = phrases\n",
    "    \n",
    "    return relative_positions.tolist()\n"
   ]
  },
  {
   "cell_type": "code",
   "execution_count": 86,
   "metadata": {},
   "outputs": [
    {
     "name": "stdout",
     "output_type": "stream",
     "text": [
      "[0.0, 0.2, 0.4, 0.6000000000000001, 0.8, 1.0, 0.0, 0.25, 0.5, 0.75, 1.0, 0.0]\n"
     ]
    }
   ],
   "source": [
    "# Example usage\n",
    "ground_truth_labels = [0, 1, 1, 0, 1, 0, 2, 0, 2, 0, 2, 3]\n",
    "# 6\n",
    "# 5\n",
    "# 1 \n",
    "\n",
    "relative_position_labels = calculate_relative_position_labels(ground_truth_labels)\n",
    "print(relative_position_labels)"
   ]
  },
  {
   "cell_type": "code",
   "execution_count": 1,
   "metadata": {},
   "outputs": [
    {
     "name": "stdout",
     "output_type": "stream",
     "text": [
      "True\n"
     ]
    }
   ],
   "source": [
    "import torch\n",
    "print(torch.cuda.is_available())\n"
   ]
  }
 ],
 "metadata": {
  "kernelspec": {
   "display_name": "canary-vae",
   "language": "python",
   "name": "python3"
  },
  "language_info": {
   "codemirror_mode": {
    "name": "ipython",
    "version": 3
   },
   "file_extension": ".py",
   "mimetype": "text/x-python",
   "name": "python",
   "nbconvert_exporter": "python",
   "pygments_lexer": "ipython3",
   "version": "3.11.7"
  },
  "orig_nbformat": 4
 },
 "nbformat": 4,
 "nbformat_minor": 2
}
