{
 "cells": [
  {
   "cell_type": "code",
   "execution_count": 145,
   "metadata": {},
   "outputs": [],
   "source": [
    "import scipy\n",
    "\n",
    "class PSTNode:\n",
    "    def __init__(self, label, children):\n",
    "        \"\"\"\n",
    "        Children list[PSTNode Objects]: \n",
    "        \"\"\"\n",
    "        self.label = label\n",
    "\n",
    "        # a list of tuples, where the first item is the index of the child and the second item is the weight of the edge (p)\n",
    "        self.children = children \n",
    "\n",
    "\n",
    "class PSTTree():\n",
    "    def __init__(self):\n",
    "        # dictionary of nodes \n",
    "        self.node_dict = {}\n",
    "\n",
    "    def add_children(self, parent, child, p):\n",
    "        self.node_dict[parent].children.append((child,p))\n",
    "\n",
    "    def add_node(self, label, node):\n",
    "        self.node_dict[label] = node \n",
    "\n",
    "f = \"/home/george-vengrovski/Downloads/pst_data.mat\"\n",
    "mat_data = scipy.io.loadmat(f, struct_as_record=False, squeeze_me=True)\n",
    "tree_data = mat_data['TREE']  \n",
    "\n",
    "pst_tree = PSTTree()\n",
    "\n",
    "# tree_data = tree_data[::-1]\n",
    "for i, node in enumerate(tree_data):\n",
    "    if i == 0:\n",
    "        node = PSTNode(label=\"root\", children=[])\n",
    "        pst_tree.add_node(label=\"root\", node=node)\n",
    "    # remove the empty higher Nodes \n",
    "    elif len(node.parent) == 0:\n",
    "        continue\n",
    "    else:\n",
    "        for parent, label, p in zip(tree_data[i].parent[0], tree_data[i].label, tree_data[i].p):\n",
    "            # first layer from root, special case \n",
    "            if len(label) == 1:\n",
    "                node = PSTNode(label=label, children=[])\n",
    "                pst_tree.add_node(label=label, node=node)\n",
    "\n",
    "                # and then previous index add children, parent will be root for all of them soooo\n",
    "                pst_tree.add_children(parent=\"root\", child=label, p=p)\n",
    "\n",
    "            else:\n",
    "                old_states = label[1:]\n",
    "\n",
    "                node = PSTNode(label=label, children=[])\n",
    "                pst_tree.add_node(label=label, node=node)\n",
    "\n",
    "                # search for parents\n",
    "                pst_tree.add_children(parent=old_states, child=label, p=p)"
   ]
  },
  {
   "cell_type": "code",
   "execution_count": 148,
   "metadata": {},
   "outputs": [
    {
     "data": {
      "text/plain": [
       "'pst_tree_visualization.png'"
      ]
     },
     "execution_count": 148,
     "metadata": {},
     "output_type": "execute_result"
    }
   ],
   "source": [
    "from graphviz import Digraph\n",
    "\n",
    "def visualize_pst_tree(pst_tree):\n",
    "    dot = Digraph(comment='Probabilistic Suffix Tree')\n",
    "\n",
    "    # Add nodes\n",
    "    for label, node in pst_tree.node_dict.items():\n",
    "        dot.node(label, label)\n",
    "\n",
    "    # Add edges\n",
    "    for label, node in pst_tree.node_dict.items():\n",
    "        for child_label, p in node.children:\n",
    "            # Ensure child exists in node_dict before adding edge\n",
    "            if child_label in pst_tree.node_dict:\n",
    "                dot.edge(label, child_label, label=f'p={p}')\n",
    "\n",
    "    return dot\n",
    "\n",
    "# Visualize the tree\n",
    "dot = visualize_pst_tree(pst_tree)\n",
    "dot.render('pst_tree_visualization', view=True, format='png')  # Adjust the path as needed\n"
   ]
  },
  {
   "cell_type": "code",
   "execution_count": null,
   "metadata": {},
   "outputs": [],
   "source": [
    "import re\n",
    "\n",
    "def integer_to_letter(match):\n",
    "    \"\"\"Converts an integer match to a corresponding letter (1 -> A, 2 -> B, etc.).\"\"\"\n",
    "    num = int(match.group())\n",
    "    # Subtract 1 from the number to get 0-based indexing for letters, then mod by 26 to handle numbers > 26\n",
    "    return chr((num - 1) % 26 + ord('A'))\n",
    "\n",
    "def replace_integers_with_letters(file_path):\n",
    "    \"\"\"Reads a file, replaces all integers with their corresponding letters, and writes the changes back to the file.\"\"\"\n",
    "    with open(file_path, 'r') as file:\n",
    "        content = file.read()\n",
    "    \n",
    "    # Replace all occurrences of integers in the file with their corresponding letters\n",
    "    modified_content = re.sub(r'\\b\\d+\\b', integer_to_letter, content)\n",
    "    \n",
    "    with open(file_path, 'w') as file:\n",
    "        file.write(modified_content)\n",
    "\n",
    "# Replace '/home/george-vengrovski/Documents/projects/tweety_bert_paper/gtruth_pst_data.txt'\n",
    "# with your actual file path\n",
    "file_path = '/home/george-vengrovski/Documents/projects/tweety_bert_paper/hdbscan_labels.txt'\n",
    "replace_integers_with_letters(file_path)\n"
   ]
  },
  {
   "cell_type": "code",
   "execution_count": 107,
   "metadata": {},
   "outputs": [
    {
     "name": "stdout",
     "output_type": "stream",
     "text": [
      "['s', 'labels', 'song']\n",
      "[0 1]\n"
     ]
    }
   ],
   "source": [
    "import numpy as np\n",
    "\n",
    "f = \"/home/george-vengrovski/Downloads/5177_songs_npz_files/USA5177_45268.29211546_12_8_8_6_51.npz\"\n",
    "\n",
    "f = np.load(f)\n",
    "\n",
    "print(f.files)\n",
    "\n",
    "print(np.unique(f[\"song\"]))"
   ]
  }
 ],
 "metadata": {
  "kernelspec": {
   "display_name": "canary-vae",
   "language": "python",
   "name": "python3"
  },
  "language_info": {
   "codemirror_mode": {
    "name": "ipython",
    "version": 3
   },
   "file_extension": ".py",
   "mimetype": "text/x-python",
   "name": "python",
   "nbconvert_exporter": "python",
   "pygments_lexer": "ipython3",
   "version": "3.11.7"
  },
  "orig_nbformat": 4
 },
 "nbformat": 4,
 "nbformat_minor": 2
}
