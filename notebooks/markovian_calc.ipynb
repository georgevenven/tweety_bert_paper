{
 "cells": [
  {
   "cell_type": "code",
   "execution_count": 3,
   "metadata": {},
   "outputs": [
    {
     "name": "stdout",
     "output_type": "stream",
     "text": [
      "Transition: C->F, Count: 264, Percentage: 10.57%\n",
      "Transition: F->A, Count: 205, Percentage: 8.21%\n",
      "Transition: A->C, Count: 169, Percentage: 6.77%\n",
      "Transition: K->R, Count: 168, Percentage: 6.73%\n",
      "Transition: F->C, Count: 122, Percentage: 4.89%\n",
      "Transition: B->G, Count: 111, Percentage: 4.45%\n",
      "Transition: A->B, Count: 106, Percentage: 4.25%\n",
      "Transition: Q->K, Count: 98, Percentage: 3.92%\n",
      "Transition: H->J, Count: 96, Percentage: 3.84%\n",
      "Transition: R->I, Count: 72, Percentage: 2.88%\n"
     ]
    }
   ],
   "source": [
    "f = '/home/george-vengrovski/Documents/projects/tweety_bert_paper/gtruth_pst_data.txt'\n",
    "\n",
    "def compute_markovian_transitions_with_percentages(file_path):\n",
    "    from collections import defaultdict\n",
    "    import operator\n",
    "\n",
    "    # Initialize a dictionary to hold the count of each transition\n",
    "    transitions = defaultdict(int)\n",
    "\n",
    "    # Read the file\n",
    "    with open(file_path, 'r') as file:\n",
    "        for line in file:\n",
    "            # Parse characters, strip to remove newline and split by comma\n",
    "            characters = line.strip().split(',')\n",
    "\n",
    "            # Compute transitions\n",
    "            for i in range(len(characters) - 1):\n",
    "                current_char = characters[i]\n",
    "                next_char = characters[i + 1]\n",
    "\n",
    "                # Concatenate the current and next characters to form the transition\n",
    "                transition = f'{current_char}->{next_char}'\n",
    "\n",
    "                # Increment the count of this transition\n",
    "                transitions[transition] += 1\n",
    "\n",
    "    # Calculate the total number of transitions\n",
    "    total_transitions = sum(transitions.values())\n",
    "\n",
    "    # Sort the transitions by count in descending order and get the top ten\n",
    "    sorted_transitions = sorted(transitions.items(), key=operator.itemgetter(1), reverse=True)[:10]\n",
    "\n",
    "    # Print the ten most common transitions with raw count and percentage\n",
    "    for transition, count in sorted_transitions:\n",
    "        percentage = (count / total_transitions) * 100  # Calculate percentage\n",
    "        print(f'Transition: {transition}, Count: {count}, Percentage: {percentage:.2f}%')\n",
    "\n",
    "# Replace 'your_file_path.txt' with the actual path to your text file\n",
    "\n",
    "\n",
    "# Replace 'your_file_path.txt' with the actual path to your text file\n",
    "compute_markovian_transitions_with_percentages(f)\n"
   ]
  },
  {
   "cell_type": "code",
   "execution_count": 11,
   "metadata": {},
   "outputs": [
    {
     "name": "stdout",
     "output_type": "stream",
     "text": [
      "The first 1000 elements have been saved to 'temp.txt'.\n"
     ]
    }
   ],
   "source": [
    "import numpy as np\n",
    "\n",
    "# Load the .npy file\n",
    "f = np.load(\"/home/george-vengrovski/Documents/projects/tweety_bert_paper/hdbscanlabels.npy\")\n",
    "\n",
    "# Slice the first 1000 elements\n",
    "first_1000_elements = f\n",
    "\n",
    "# Save the sliced array to a text file named 'temp.txt'\n",
    "with open('temp.txt', 'w') as file:\n",
    "    for item in first_1000_elements:\n",
    "        file.write(f\"{item},\")\n",
    "\n",
    "# Confirmation message\n",
    "print(\"The first 1000 elements have been saved to 'temp.txt'.\")\n"
   ]
  }
 ],
 "metadata": {
  "kernelspec": {
   "display_name": "tweetybert",
   "language": "python",
   "name": "python3"
  },
  "language_info": {
   "codemirror_mode": {
    "name": "ipython",
    "version": 3
   },
   "file_extension": ".py",
   "mimetype": "text/x-python",
   "name": "python",
   "nbconvert_exporter": "python",
   "pygments_lexer": "ipython3",
   "version": "3.11.7"
  },
  "orig_nbformat": 4
 },
 "nbformat": 4,
 "nbformat_minor": 2
}
