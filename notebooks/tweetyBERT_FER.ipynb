{
 "cells": [
  {
   "cell_type": "code",
   "execution_count": 9,
   "metadata": {},
   "outputs": [],
   "source": [
    "import matplotlib.pyplot as plt\n",
    "import os\n",
    "import torch \n",
    "from torch.utils.data import DataLoader\n",
    "import json\n",
    "import sys\n",
    "import torch\n",
    "\n",
    "sys.path.append(\"src\")\n",
    "os.chdir('/home/george-vengrovski/Documents/projects/tweety_bert_paper')\n",
    "\n",
    "from data_class import CollateFunction\n",
    "from utils import load_model\n",
    "\n",
    "weights_path = \"/home/george-vengrovski/Documents/projects/tweety_bert_paper/experiments/TweetyBERT-MSE_LLB3_10_Mask/saved_weights/model_step_15800.pth\"\n",
    "config_path = \"/home/george-vengrovski/Documents/projects/tweety_bert_paper/experiments/TweetyBERT-MSE_LLB3_10_Mask/config.json\"\n",
    "\n",
    "tweety_bert_model = load_model(config_path, weights_path)\n",
    "\n",
    "device = torch.device(\"cuda\" if torch.cuda.is_available() else \"cpu\")\n"
   ]
  },
  {
   "cell_type": "markdown",
   "metadata": {},
   "source": [
    "## Data Class"
   ]
  },
  {
   "cell_type": "code",
   "execution_count": 10,
   "metadata": {},
   "outputs": [],
   "source": [
    "from torch.utils.data import DataLoader\n",
    "from data_class import SongDataSet_Image\n",
    "\n",
    "train_dir = \"/home/george-vengrovski/Documents/projects/tweety_bert_paper/files/llb3_train\"\n",
    "test_dir = \"/home/george-vengrovski/Documents/projects/tweety_bert_paper/files/llb3_test\"\n",
    "\n",
    "train_dataset = SongDataSet_Image(train_dir, num_classes=196, psuedo_labels_generated=True)\n",
    "test_dataset = SongDataSet_Image(test_dir, num_classes=196, psuedo_labels_generated=True)\n",
    "\n",
    "collate_fn = CollateFunction(segment_length=1000)  # Adjust the segment length if needed\n",
    "\n",
    "train_loader = DataLoader(train_dataset, batch_size=48, shuffle=True, collate_fn=collate_fn)\n",
    "test_loader = DataLoader(test_dataset, batch_size=48, shuffle=True, collate_fn=collate_fn)"
   ]
  },
  {
   "cell_type": "markdown",
   "metadata": {},
   "source": [
    "## Define Linear Classifier and Train"
   ]
  },
  {
   "cell_type": "code",
   "execution_count": 11,
   "metadata": {},
   "outputs": [],
   "source": [
    "from linear_probe import LinearProbeModel, LinearProbeTrainer\n",
    "\n",
    "classifier_model = LinearProbeModel(num_classes=196, model_type=\"neural_net\", model=tweety_bert_model, freeze_layers=True, layer_num=-3, layer_id=\"attention_output\", classifier_dims=196)\n",
    "classifier_model = classifier_model.to(device)"
   ]
  },
  {
   "cell_type": "code",
   "execution_count": 12,
   "metadata": {},
   "outputs": [
    {
     "name": "stdout",
     "output_type": "stream",
     "text": [
      "Batch 1: FER = 84.17%, Train Loss = 5.4033, Val Loss = 4.4738\n",
      "Batch 2: FER = 38.31%, Train Loss = 4.5192, Val Loss = 3.6220\n",
      "Batch 3: FER = 27.66%, Train Loss = 3.6444, Val Loss = 2.8906\n",
      "Batch 4: FER = 20.74%, Train Loss = 2.8567, Val Loss = 2.2174\n",
      "Batch 5: FER = 16.59%, Train Loss = 2.1952, Val Loss = 1.6526\n",
      "Batch 6: FER = 17.49%, Train Loss = 1.7201, Val Loss = 1.3121\n",
      "Batch 7: FER = 16.64%, Train Loss = 1.4019, Val Loss = 1.0467\n",
      "Batch 8: FER = 16.40%, Train Loss = 1.0639, Val Loss = 0.8319\n",
      "Batch 9: FER = 17.60%, Train Loss = 0.8741, Val Loss = 0.7500\n",
      "Batch 10: FER = 16.65%, Train Loss = 0.7710, Val Loss = 0.6407\n",
      "Batch 11: FER = 16.95%, Train Loss = 0.6789, Val Loss = 0.6031\n",
      "Batch 12: FER = 14.56%, Train Loss = 0.5562, Val Loss = 0.5396\n",
      "Batch 13: FER = 16.54%, Train Loss = 0.5926, Val Loss = 0.5947\n",
      "Batch 14: FER = 14.25%, Train Loss = 0.4939, Val Loss = 0.5050\n",
      "Batch 15: FER = 12.69%, Train Loss = 0.4966, Val Loss = 0.4415\n",
      "Batch 16: FER = 12.09%, Train Loss = 0.5628, Val Loss = 0.4276\n",
      "Batch 17: FER = 13.47%, Train Loss = 0.4738, Val Loss = 0.4642\n",
      "Batch 18: FER = 12.13%, Train Loss = 0.3877, Val Loss = 0.4468\n",
      "Batch 19: FER = 11.64%, Train Loss = 0.4262, Val Loss = 0.4194\n",
      "Batch 20: FER = 10.03%, Train Loss = 0.3709, Val Loss = 0.3570\n",
      "Batch 21: FER = 10.42%, Train Loss = 0.4527, Val Loss = 0.3826\n",
      "Batch 22: FER = 11.07%, Train Loss = 0.4095, Val Loss = 0.4071\n",
      "Batch 23: FER = 9.12%, Train Loss = 0.3581, Val Loss = 0.3274\n",
      "Batch 24: FER = 9.92%, Train Loss = 0.3925, Val Loss = 0.3827\n",
      "Batch 25: FER = 8.82%, Train Loss = 0.3039, Val Loss = 0.3328\n",
      "Batch 26: FER = 9.17%, Train Loss = 0.3678, Val Loss = 0.3369\n",
      "Batch 27: FER = 7.49%, Train Loss = 0.3701, Val Loss = 0.2792\n",
      "Batch 28: FER = 8.41%, Train Loss = 0.3300, Val Loss = 0.3128\n",
      "Batch 29: FER = 7.33%, Train Loss = 0.2973, Val Loss = 0.2733\n",
      "Batch 30: FER = 7.79%, Train Loss = 0.3471, Val Loss = 0.2939\n",
      "Batch 31: FER = 7.58%, Train Loss = 0.2851, Val Loss = 0.2764\n",
      "Batch 32: FER = 7.66%, Train Loss = 0.3133, Val Loss = 0.2703\n",
      "Batch 33: FER = 8.01%, Train Loss = 0.2714, Val Loss = 0.2990\n",
      "Batch 34: FER = 6.60%, Train Loss = 0.3242, Val Loss = 0.2444\n",
      "Batch 35: FER = 7.84%, Train Loss = 0.2598, Val Loss = 0.2812\n"
     ]
    },
    {
     "ename": "KeyboardInterrupt",
     "evalue": "",
     "output_type": "error",
     "traceback": [
      "\u001b[0;31m---------------------------------------------------------------------------\u001b[0m",
      "\u001b[0;31mKeyboardInterrupt\u001b[0m                         Traceback (most recent call last)",
      "Cell \u001b[0;32mIn[12], line 2\u001b[0m\n\u001b[1;32m      1\u001b[0m trainer \u001b[39m=\u001b[39m LinearProbeTrainer(model\u001b[39m=\u001b[39mclassifier_model, train_loader\u001b[39m=\u001b[39mtrain_loader, test_loader\u001b[39m=\u001b[39mtest_loader, device\u001b[39m=\u001b[39mdevice, lr\u001b[39m=\u001b[39m\u001b[39m1e-3\u001b[39m, plotting\u001b[39m=\u001b[39m\u001b[39mTrue\u001b[39;00m, batches_per_eval\u001b[39m=\u001b[39m\u001b[39m1\u001b[39m, desired_total_batches\u001b[39m=\u001b[39m\u001b[39m1e4\u001b[39m, patience\u001b[39m=\u001b[39m\u001b[39m4\u001b[39m)\n\u001b[0;32m----> 2\u001b[0m trainer\u001b[39m.\u001b[39mtrain()\n",
      "File \u001b[0;32m~/Documents/projects/tweety_bert_paper/src/linear_probe.py:169\u001b[0m, in \u001b[0;36mLinearProbeTrainer.train\u001b[0;34m(self)\u001b[0m\n\u001b[1;32m    167\u001b[0m total_batches \u001b[39m+\u001b[39m\u001b[39m=\u001b[39m \u001b[39m1\u001b[39m\n\u001b[1;32m    168\u001b[0m \u001b[39mif\u001b[39;00m total_batches \u001b[39m%\u001b[39m \u001b[39mself\u001b[39m\u001b[39m.\u001b[39mbatches_per_eval \u001b[39m==\u001b[39m \u001b[39m0\u001b[39m:\n\u001b[0;32m--> 169\u001b[0m     avg_val_loss, avg_frame_error \u001b[39m=\u001b[39m \u001b[39mself\u001b[39m\u001b[39m.\u001b[39mvalidate_model()\n\u001b[1;32m    171\u001b[0m     raw_loss_list\u001b[39m.\u001b[39mappend(loss\u001b[39m.\u001b[39mitem())\n\u001b[1;32m    172\u001b[0m     raw_val_loss_list\u001b[39m.\u001b[39mappend(avg_val_loss)\n",
      "File \u001b[0;32m~/Documents/projects/tweety_bert_paper/src/linear_probe.py:123\u001b[0m, in \u001b[0;36mLinearProbeTrainer.validate_model\u001b[0;34m(self)\u001b[0m\n\u001b[1;32m    120\u001b[0m num_val_batches \u001b[39m=\u001b[39m \u001b[39m0\u001b[39m\n\u001b[1;32m    122\u001b[0m \u001b[39mwith\u001b[39;00m torch\u001b[39m.\u001b[39mno_grad():\n\u001b[0;32m--> 123\u001b[0m     \u001b[39mfor\u001b[39;00m i, (spectrogram, _, label) \u001b[39min\u001b[39;00m \u001b[39menumerate\u001b[39m(\u001b[39mself\u001b[39m\u001b[39m.\u001b[39mtest_loader):\n\u001b[1;32m    124\u001b[0m         \u001b[39mif\u001b[39;00m i \u001b[39m>\u001b[39m \u001b[39mself\u001b[39m\u001b[39m.\u001b[39mbatches_per_eval:\n\u001b[1;32m    125\u001b[0m             \u001b[39mbreak\u001b[39;00m\n",
      "File \u001b[0;32m~/anaconda3/envs/canary-vae/lib/python3.11/site-packages/torch/utils/data/dataloader.py:630\u001b[0m, in \u001b[0;36m_BaseDataLoaderIter.__next__\u001b[0;34m(self)\u001b[0m\n\u001b[1;32m    627\u001b[0m \u001b[39mif\u001b[39;00m \u001b[39mself\u001b[39m\u001b[39m.\u001b[39m_sampler_iter \u001b[39mis\u001b[39;00m \u001b[39mNone\u001b[39;00m:\n\u001b[1;32m    628\u001b[0m     \u001b[39m# TODO(https://github.com/pytorch/pytorch/issues/76750)\u001b[39;00m\n\u001b[1;32m    629\u001b[0m     \u001b[39mself\u001b[39m\u001b[39m.\u001b[39m_reset()  \u001b[39m# type: ignore[call-arg]\u001b[39;00m\n\u001b[0;32m--> 630\u001b[0m data \u001b[39m=\u001b[39m \u001b[39mself\u001b[39m\u001b[39m.\u001b[39m_next_data()\n\u001b[1;32m    631\u001b[0m \u001b[39mself\u001b[39m\u001b[39m.\u001b[39m_num_yielded \u001b[39m+\u001b[39m\u001b[39m=\u001b[39m \u001b[39m1\u001b[39m\n\u001b[1;32m    632\u001b[0m \u001b[39mif\u001b[39;00m \u001b[39mself\u001b[39m\u001b[39m.\u001b[39m_dataset_kind \u001b[39m==\u001b[39m _DatasetKind\u001b[39m.\u001b[39mIterable \u001b[39mand\u001b[39;00m \\\n\u001b[1;32m    633\u001b[0m         \u001b[39mself\u001b[39m\u001b[39m.\u001b[39m_IterableDataset_len_called \u001b[39mis\u001b[39;00m \u001b[39mnot\u001b[39;00m \u001b[39mNone\u001b[39;00m \u001b[39mand\u001b[39;00m \\\n\u001b[1;32m    634\u001b[0m         \u001b[39mself\u001b[39m\u001b[39m.\u001b[39m_num_yielded \u001b[39m>\u001b[39m \u001b[39mself\u001b[39m\u001b[39m.\u001b[39m_IterableDataset_len_called:\n",
      "File \u001b[0;32m~/anaconda3/envs/canary-vae/lib/python3.11/site-packages/torch/utils/data/dataloader.py:674\u001b[0m, in \u001b[0;36m_SingleProcessDataLoaderIter._next_data\u001b[0;34m(self)\u001b[0m\n\u001b[1;32m    672\u001b[0m \u001b[39mdef\u001b[39;00m \u001b[39m_next_data\u001b[39m(\u001b[39mself\u001b[39m):\n\u001b[1;32m    673\u001b[0m     index \u001b[39m=\u001b[39m \u001b[39mself\u001b[39m\u001b[39m.\u001b[39m_next_index()  \u001b[39m# may raise StopIteration\u001b[39;00m\n\u001b[0;32m--> 674\u001b[0m     data \u001b[39m=\u001b[39m \u001b[39mself\u001b[39m\u001b[39m.\u001b[39m_dataset_fetcher\u001b[39m.\u001b[39mfetch(index)  \u001b[39m# may raise StopIteration\u001b[39;00m\n\u001b[1;32m    675\u001b[0m     \u001b[39mif\u001b[39;00m \u001b[39mself\u001b[39m\u001b[39m.\u001b[39m_pin_memory:\n\u001b[1;32m    676\u001b[0m         data \u001b[39m=\u001b[39m _utils\u001b[39m.\u001b[39mpin_memory\u001b[39m.\u001b[39mpin_memory(data, \u001b[39mself\u001b[39m\u001b[39m.\u001b[39m_pin_memory_device)\n",
      "File \u001b[0;32m~/anaconda3/envs/canary-vae/lib/python3.11/site-packages/torch/utils/data/_utils/fetch.py:54\u001b[0m, in \u001b[0;36m_MapDatasetFetcher.fetch\u001b[0;34m(self, possibly_batched_index)\u001b[0m\n\u001b[1;32m     52\u001b[0m \u001b[39melse\u001b[39;00m:\n\u001b[1;32m     53\u001b[0m     data \u001b[39m=\u001b[39m \u001b[39mself\u001b[39m\u001b[39m.\u001b[39mdataset[possibly_batched_index]\n\u001b[0;32m---> 54\u001b[0m \u001b[39mreturn\u001b[39;00m \u001b[39mself\u001b[39m\u001b[39m.\u001b[39mcollate_fn(data)\n",
      "File \u001b[0;32m~/Documents/projects/tweety_bert_paper/src/data_class.py:115\u001b[0m, in \u001b[0;36mCollateFunction.__call__\u001b[0;34m(self, batch)\u001b[0m\n\u001b[1;32m    111\u001b[0m     ground_truth_labels_processed\u001b[39m.\u001b[39mappend(ground_truth_label)\n\u001b[1;32m    113\u001b[0m \u001b[39m# Stack tensors along a new dimension to match the BERT input size.\u001b[39;00m\n\u001b[1;32m    114\u001b[0m \u001b[39m# You might need to adjust dimensions based on your exact use case.\u001b[39;00m\n\u001b[0;32m--> 115\u001b[0m spectograms \u001b[39m=\u001b[39m torch\u001b[39m.\u001b[39mstack(spectograms_processed, dim\u001b[39m=\u001b[39m\u001b[39m0\u001b[39m)\n\u001b[1;32m    116\u001b[0m psuedo_labels \u001b[39m=\u001b[39m torch\u001b[39m.\u001b[39mstack(psuedo_labels_processed, dim\u001b[39m=\u001b[39m\u001b[39m0\u001b[39m)\n\u001b[1;32m    117\u001b[0m ground_truth_labels \u001b[39m=\u001b[39m torch\u001b[39m.\u001b[39mstack(ground_truth_labels_processed, dim\u001b[39m=\u001b[39m\u001b[39m0\u001b[39m)\n",
      "\u001b[0;31mKeyboardInterrupt\u001b[0m: "
     ]
    }
   ],
   "source": [
    "trainer = LinearProbeTrainer(model=classifier_model, train_loader=train_loader, test_loader=test_loader, device=device, lr=1e-3, plotting=True, batches_per_eval=1, desired_total_batches=1e4, patience=4)\n",
    "trainer.train()"
   ]
  },
  {
   "cell_type": "markdown",
   "metadata": {},
   "source": [
    "## Analyze"
   ]
  },
  {
   "cell_type": "code",
   "execution_count": null,
   "metadata": {},
   "outputs": [],
   "source": [
    "from linear_probe import ModelEvaluator\n",
    "\n",
    "evaluator = ModelEvaluator(classifier_model, test_loader)\n",
    "class_frame_error_rates, total_frame_error_rate = evaluator.validate_model_multiple_passes(num_passes=1, max_batches=1250)\n",
    "evaluator.save_results(class_frame_error_rates, total_frame_error_rate, '/home/george-vengrovski/Documents/projects/tweety_bert_paper/results/test')"
   ]
  }
 ],
 "metadata": {
  "kernelspec": {
   "display_name": "canary-vae",
   "language": "python",
   "name": "python3"
  },
  "language_info": {
   "codemirror_mode": {
    "name": "ipython",
    "version": 3
   },
   "file_extension": ".py",
   "mimetype": "text/x-python",
   "name": "python",
   "nbconvert_exporter": "python",
   "pygments_lexer": "ipython3",
   "version": "3.11.4"
  },
  "orig_nbformat": 4
 },
 "nbformat": 4,
 "nbformat_minor": 2
}
