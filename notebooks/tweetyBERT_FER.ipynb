{
 "cells": [
  {
   "cell_type": "code",
   "execution_count": 1,
   "metadata": {},
   "outputs": [],
   "source": [
    "import matplotlib.pyplot as plt\n",
    "import os\n",
    "import torch \n",
    "from torch.utils.data import DataLoader\n",
    "import json\n",
    "import sys\n",
    "import torch\n",
    "\n",
    "sys.path.append(\"src\")\n",
    "os.chdir('/home/george-vengrovski/Documents/projects/tweety_bert_paper')\n",
    "\n",
    "from data_class import CollateFunction\n",
    "from utils import load_model\n",
    "\n",
    "weights_path = \"/home/george-vengrovski/Documents/projects/tweety_bert_paper/experiments/TweetyBERT-MSE-Mask-Before-50-mask-alpha-1/saved_weights/model_step_6400.pth\"\n",
    "config_path = \"/home/george-vengrovski/Documents/projects/tweety_bert_paper/experiments/TweetyBERT-MSE-Mask-Before-50-mask-alpha-1/config.json\"\n",
    "\n",
    "tweety_bert_model = load_model(config_path, weights_path)\n",
    "\n",
    "device = torch.device(\"cuda\" if torch.cuda.is_available() else \"cpu\")\n"
   ]
  },
  {
   "cell_type": "markdown",
   "metadata": {},
   "source": [
    "## Data Class"
   ]
  },
  {
   "cell_type": "code",
   "execution_count": 2,
   "metadata": {},
   "outputs": [],
   "source": [
    "from torch.utils.data import DataLoader\n",
    "from data_class import SongDataSet_Image\n",
    "\n",
    "train_dir = \"/home/george-vengrovski/Documents/projects/tweety_bert_paper/files/llb3_train\"\n",
    "test_dir = \"/home/george-vengrovski/Documents/projects/tweety_bert_paper/files/llb3_test\"\n",
    "\n",
    "train_dataset = SongDataSet_Image(train_dir, num_classes=196)\n",
    "test_dataset = SongDataSet_Image(test_dir, num_classes=196)\n",
    "\n",
    "collate_fn = CollateFunction(segment_length=1000)  # Adjust the segment length if needed\n",
    "\n",
    "train_loader = DataLoader(train_dataset, batch_size=48, shuffle=True, collate_fn=collate_fn)\n",
    "test_loader = DataLoader(test_dataset, batch_size=48, shuffle=True, collate_fn=collate_fn)"
   ]
  },
  {
   "cell_type": "markdown",
   "metadata": {},
   "source": [
    "## Define Linear Classifier and Train"
   ]
  },
  {
   "cell_type": "code",
   "execution_count": 3,
   "metadata": {},
   "outputs": [],
   "source": [
    "from linear_probe import LinearProbeModel, LinearProbeTrainer\n",
    "\n",
    "classifier_model = LinearProbeModel(num_classes=196, model_type=\"neural_net\", model=tweety_bert_model, freeze_layers=False, layer_num=2, layer_id=\"attention_output\", classifier_dims=196)\n",
    "classifier_model = classifier_model.to(device)"
   ]
  },
  {
   "cell_type": "code",
   "execution_count": 4,
   "metadata": {},
   "outputs": [
    {
     "name": "stderr",
     "output_type": "stream",
     "text": [
      "/home/george-vengrovski/anaconda3/envs/canary-vae/lib/python3.11/site-packages/tqdm/auto.py:21: TqdmWarning: IProgress not found. Please update jupyter and ipywidgets. See https://ipywidgets.readthedocs.io/en/stable/user_install.html\n",
      "  from .autonotebook import tqdm as notebook_tqdm\n"
     ]
    },
    {
     "name": "stdout",
     "output_type": "stream",
     "text": [
      "Batch 10: FER = 48.55%, Train Loss = 13.7251, Val Loss = 13.1249\n",
      "Batch 20: FER = 37.28%, Train Loss = 6.1086, Val Loss = 4.4253\n",
      "Batch 30: FER = 31.16%, Train Loss = 3.8919, Val Loss = 3.6376\n",
      "Batch 40: FER = 27.34%, Train Loss = 1.4030, Val Loss = 1.1725\n",
      "Batch 50: FER = 25.84%, Train Loss = 1.9968, Val Loss = 1.9372\n",
      "Batch 60: FER = 23.21%, Train Loss = 1.5552, Val Loss = 1.4037\n",
      "Batch 70: FER = 18.09%, Train Loss = 0.9616, Val Loss = 0.7399\n",
      "Batch 80: FER = 15.82%, Train Loss = 0.7849, Val Loss = 0.5544\n",
      "Batch 90: FER = 12.12%, Train Loss = 0.3294, Val Loss = 0.4133\n",
      "Batch 100: FER = 9.32%, Train Loss = 0.3885, Val Loss = 0.3309\n",
      "Batch 110: FER = 8.30%, Train Loss = 0.3475, Val Loss = 0.2998\n",
      "Batch 120: FER = 7.97%, Train Loss = 0.2756, Val Loss = 0.2796\n",
      "Batch 130: FER = 6.96%, Train Loss = 0.2989, Val Loss = 0.2368\n",
      "Batch 140: FER = 6.83%, Train Loss = 0.2104, Val Loss = 0.2203\n",
      "Batch 150: FER = 6.58%, Train Loss = 0.1948, Val Loss = 0.2165\n",
      "Batch 160: FER = 6.27%, Train Loss = 0.2254, Val Loss = 0.2130\n",
      "Batch 170: FER = 5.80%, Train Loss = 0.1770, Val Loss = 0.1802\n",
      "Batch 180: FER = 5.49%, Train Loss = 0.2069, Val Loss = 0.1772\n",
      "Batch 190: FER = 5.12%, Train Loss = 0.1612, Val Loss = 0.1676\n",
      "Batch 200: FER = 4.93%, Train Loss = 0.1792, Val Loss = 0.1535\n",
      "Batch 210: FER = 5.04%, Train Loss = 0.2005, Val Loss = 0.1612\n",
      "Batch 220: FER = 5.29%, Train Loss = 0.1421, Val Loss = 0.1662\n",
      "Batch 230: FER = 4.86%, Train Loss = 0.1399, Val Loss = 0.1485\n",
      "Batch 240: FER = 4.88%, Train Loss = 0.1383, Val Loss = 0.1518\n",
      "Batch 250: FER = 4.67%, Train Loss = 0.1272, Val Loss = 0.1448\n",
      "Batch 260: FER = 4.48%, Train Loss = 0.1335, Val Loss = 0.1370\n",
      "Batch 270: FER = 4.24%, Train Loss = 0.1062, Val Loss = 0.1315\n",
      "Batch 280: FER = 4.24%, Train Loss = 0.1273, Val Loss = 0.1293\n",
      "Batch 290: FER = 4.23%, Train Loss = 0.1212, Val Loss = 0.1252\n",
      "Batch 300: FER = 4.23%, Train Loss = 0.1200, Val Loss = 0.1304\n",
      "Batch 310: FER = 4.38%, Train Loss = 0.1309, Val Loss = 0.1331\n",
      "Batch 320: FER = 4.44%, Train Loss = 0.1158, Val Loss = 0.1316\n",
      "Batch 330: FER = 4.36%, Train Loss = 0.1099, Val Loss = 0.1317\n",
      "Batch 340: FER = 4.09%, Train Loss = 0.1337, Val Loss = 0.1224\n",
      "Batch 350: FER = 4.18%, Train Loss = 0.1213, Val Loss = 0.1254\n",
      "Batch 360: FER = 4.01%, Train Loss = 0.1037, Val Loss = 0.1169\n",
      "Batch 370: FER = 3.90%, Train Loss = 0.1089, Val Loss = 0.1135\n",
      "Batch 380: FER = 3.80%, Train Loss = 0.1142, Val Loss = 0.1138\n",
      "Batch 390: FER = 3.96%, Train Loss = 0.1018, Val Loss = 0.1179\n",
      "Batch 400: FER = 3.83%, Train Loss = 0.1417, Val Loss = 0.1153\n",
      "Batch 410: FER = 3.95%, Train Loss = 0.0962, Val Loss = 0.1151\n",
      "Batch 420: FER = 3.64%, Train Loss = 0.1098, Val Loss = 0.1080\n",
      "Batch 430: FER = 3.84%, Train Loss = 0.0909, Val Loss = 0.1136\n",
      "Batch 440: FER = 3.85%, Train Loss = 0.0976, Val Loss = 0.1113\n",
      "Batch 450: FER = 3.83%, Train Loss = 0.0962, Val Loss = 0.1116\n",
      "Batch 460: FER = 3.64%, Train Loss = 0.0925, Val Loss = 0.1062\n",
      "Batch 470: FER = 3.68%, Train Loss = 0.0960, Val Loss = 0.1094\n",
      "Batch 480: FER = 3.70%, Train Loss = 0.1182, Val Loss = 0.1063\n",
      "Batch 490: FER = 4.47%, Train Loss = 0.1166, Val Loss = 0.1399\n",
      "Batch 500: FER = 4.14%, Train Loss = 0.1202, Val Loss = 0.1231\n",
      "Batch 510: FER = 4.05%, Train Loss = 0.0960, Val Loss = 0.1194\n",
      "Batch 520: FER = 3.78%, Train Loss = 0.1235, Val Loss = 0.1098\n",
      "Batch 530: FER = 3.64%, Train Loss = 0.1118, Val Loss = 0.1058\n",
      "Batch 540: FER = 3.70%, Train Loss = 0.0960, Val Loss = 0.1051\n",
      "Batch 550: FER = 3.78%, Train Loss = 0.0894, Val Loss = 0.1095\n",
      "Batch 560: FER = 3.66%, Train Loss = 0.1104, Val Loss = 0.1099\n",
      "Batch 570: FER = 3.61%, Train Loss = 0.1156, Val Loss = 0.1013\n",
      "Batch 580: FER = 3.59%, Train Loss = 0.1054, Val Loss = 0.1056\n",
      "Batch 590: FER = 3.41%, Train Loss = 0.0943, Val Loss = 0.0985\n",
      "Batch 600: FER = 3.83%, Train Loss = 0.1009, Val Loss = 0.1090\n",
      "Batch 610: FER = 3.62%, Train Loss = 0.1110, Val Loss = 0.1065\n",
      "Batch 620: FER = 3.34%, Train Loss = 0.1240, Val Loss = 0.0959\n",
      "Batch 630: FER = 3.53%, Train Loss = 0.0933, Val Loss = 0.1028\n",
      "Batch 640: FER = 3.43%, Train Loss = 0.0955, Val Loss = 0.0985\n",
      "Batch 650: FER = 3.34%, Train Loss = 0.1116, Val Loss = 0.0989\n",
      "Batch 660: FER = 3.62%, Train Loss = 0.1121, Val Loss = 0.1054\n",
      "Batch 670: FER = 6.63%, Train Loss = 0.2643, Val Loss = 0.1910\n",
      "Batch 680: FER = 5.13%, Train Loss = 0.1748, Val Loss = 0.1629\n",
      "Batch 690: FER = 4.40%, Train Loss = 0.1347, Val Loss = 0.1399\n",
      "Batch 700: FER = 4.58%, Train Loss = 0.1399, Val Loss = 0.1338\n",
      "Batch 710: FER = 4.35%, Train Loss = 0.1481, Val Loss = 0.1278\n",
      "Batch 720: FER = 3.71%, Train Loss = 0.1275, Val Loss = 0.1110\n",
      "Batch 730: FER = 3.66%, Train Loss = 0.1068, Val Loss = 0.1063\n",
      "Batch 740: FER = 3.93%, Train Loss = 0.1661, Val Loss = 0.1125\n",
      "Batch 750: FER = 3.81%, Train Loss = 0.1205, Val Loss = 0.1093\n",
      "Batch 760: FER = 3.62%, Train Loss = 0.0925, Val Loss = 0.1062\n",
      "Batch 770: FER = 3.80%, Train Loss = 0.1290, Val Loss = 0.1100\n",
      "Batch 780: FER = 3.55%, Train Loss = 0.0991, Val Loss = 0.1045\n",
      "Batch 790: FER = 3.56%, Train Loss = 0.1175, Val Loss = 0.1043\n",
      "Batch 800: FER = 3.92%, Train Loss = 0.0952, Val Loss = 0.1137\n"
     ]
    },
    {
     "ename": "KeyboardInterrupt",
     "evalue": "",
     "output_type": "error",
     "traceback": [
      "\u001b[0;31m---------------------------------------------------------------------------\u001b[0m",
      "\u001b[0;31mKeyboardInterrupt\u001b[0m                         Traceback (most recent call last)",
      "Cell \u001b[0;32mIn[4], line 2\u001b[0m\n\u001b[1;32m      1\u001b[0m trainer \u001b[39m=\u001b[39m LinearProbeTrainer(model\u001b[39m=\u001b[39mclassifier_model, train_loader\u001b[39m=\u001b[39mtrain_loader, test_loader\u001b[39m=\u001b[39mtest_loader, device\u001b[39m=\u001b[39mdevice, lr\u001b[39m=\u001b[39m\u001b[39m3e-4\u001b[39m, plotting\u001b[39m=\u001b[39m\u001b[39mTrue\u001b[39;00m, batches_per_eval\u001b[39m=\u001b[39m\u001b[39m10\u001b[39m, desired_total_batches\u001b[39m=\u001b[39m\u001b[39m1e4\u001b[39m, patience\u001b[39m=\u001b[39m\u001b[39m4\u001b[39m)\n\u001b[0;32m----> 2\u001b[0m trainer\u001b[39m.\u001b[39mtrain()\n",
      "File \u001b[0;32m~/Documents/projects/tweety_bert_paper/src/linear_probe.py:169\u001b[0m, in \u001b[0;36mLinearProbeTrainer.train\u001b[0;34m(self)\u001b[0m\n\u001b[1;32m    167\u001b[0m total_batches \u001b[39m+\u001b[39m\u001b[39m=\u001b[39m \u001b[39m1\u001b[39m\n\u001b[1;32m    168\u001b[0m \u001b[39mif\u001b[39;00m total_batches \u001b[39m%\u001b[39m \u001b[39mself\u001b[39m\u001b[39m.\u001b[39mbatches_per_eval \u001b[39m==\u001b[39m \u001b[39m0\u001b[39m:\n\u001b[0;32m--> 169\u001b[0m     avg_val_loss, avg_frame_error \u001b[39m=\u001b[39m \u001b[39mself\u001b[39m\u001b[39m.\u001b[39mvalidate_model()\n\u001b[1;32m    171\u001b[0m     raw_loss_list\u001b[39m.\u001b[39mappend(loss\u001b[39m.\u001b[39mitem())\n\u001b[1;32m    172\u001b[0m     raw_val_loss_list\u001b[39m.\u001b[39mappend(avg_val_loss)\n",
      "File \u001b[0;32m~/Documents/projects/tweety_bert_paper/src/linear_probe.py:131\u001b[0m, in \u001b[0;36mLinearProbeTrainer.validate_model\u001b[0;34m(self)\u001b[0m\n\u001b[1;32m    129\u001b[0m output \u001b[39m=\u001b[39m output\u001b[39m.\u001b[39mpermute(\u001b[39m0\u001b[39m,\u001b[39m2\u001b[39m,\u001b[39m1\u001b[39m)\n\u001b[1;32m    130\u001b[0m loss \u001b[39m=\u001b[39m \u001b[39mself\u001b[39m\u001b[39m.\u001b[39mmodel\u001b[39m.\u001b[39mcross_entropy_loss(predictions\u001b[39m=\u001b[39moutput, targets\u001b[39m=\u001b[39mlabel)\n\u001b[0;32m--> 131\u001b[0m total_val_loss \u001b[39m+\u001b[39m\u001b[39m=\u001b[39m loss\u001b[39m.\u001b[39mitem()\n\u001b[1;32m    132\u001b[0m total_frame_error \u001b[39m+\u001b[39m\u001b[39m=\u001b[39m \u001b[39mself\u001b[39m\u001b[39m.\u001b[39mframe_error_rate(output, label)\u001b[39m.\u001b[39mitem()\n\u001b[1;32m    133\u001b[0m num_val_batches \u001b[39m+\u001b[39m\u001b[39m=\u001b[39m \u001b[39m1\u001b[39m\n",
      "\u001b[0;31mKeyboardInterrupt\u001b[0m: "
     ]
    }
   ],
   "source": [
    "trainer = LinearProbeTrainer(model=classifier_model, train_loader=train_loader, test_loader=test_loader, device=device, lr=3e-3, plotting=True, batches_per_eval=10, desired_total_batches=1e4, patience=4)\n",
    "trainer.train()"
   ]
  },
  {
   "cell_type": "markdown",
   "metadata": {},
   "source": [
    "## Analyze"
   ]
  },
  {
   "cell_type": "code",
   "execution_count": 5,
   "metadata": {},
   "outputs": [
    {
     "name": "stderr",
     "output_type": "stream",
     "text": [
      "Evaluating: 100%|██████████| 12/12 [00:04<00:00,  2.62batch/s]\n"
     ]
    }
   ],
   "source": [
    "from linear_probe import ModelEvaluator\n",
    "\n",
    "evaluator = ModelEvaluator(classifier_model, test_loader)\n",
    "class_frame_error_rates, total_frame_error_rate = evaluator.validate_model_multiple_passes(num_passes=1, max_batches=1250)\n",
    "evaluator.save_results(class_frame_error_rates, total_frame_error_rate, 'results/')"
   ]
  }
 ],
 "metadata": {
  "kernelspec": {
   "display_name": "canary-vae",
   "language": "python",
   "name": "python3"
  },
  "language_info": {
   "codemirror_mode": {
    "name": "ipython",
    "version": 3
   },
   "file_extension": ".py",
   "mimetype": "text/x-python",
   "name": "python",
   "nbconvert_exporter": "python",
   "pygments_lexer": "ipython3",
   "version": "3.11.4"
  },
  "orig_nbformat": 4
 },
 "nbformat": 4,
 "nbformat_minor": 2
}
